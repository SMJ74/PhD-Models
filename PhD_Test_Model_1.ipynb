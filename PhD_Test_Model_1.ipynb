{
  "nbformat": 4,
  "nbformat_minor": 0,
  "metadata": {
    "colab": {
      "provenance": [],
      "authorship_tag": "ABX9TyONYHCQTShiO0m/KSrGk3Lz",
      "include_colab_link": true
    },
    "kernelspec": {
      "name": "python3",
      "display_name": "Python 3"
    },
    "language_info": {
      "name": "python"
    },
    "accelerator": "GPU",
    "gpuClass": "standard"
  },
  "cells": [
    {
      "cell_type": "markdown",
      "metadata": {
        "id": "view-in-github",
        "colab_type": "text"
      },
      "source": [
<<<<<<< HEAD
        "<a href=\"https://colab.research.google.com/github/SMJ74/PhD-Models/blob/main/PhD_Test_Model_1.ipynb\" target=\"_parent\"><img src=\"https://colab.research.google.com/assets/colab-badge.svg\" alt=\"Open In Colab\"/></a>"
=======
        "<a href=\"https://colab.research.google.com/github/SMJ74/PhD-Models/blob/OPM-Keras1/PhD_Test_Model_1.ipynb\" target=\"_parent\"><img src=\"https://colab.research.google.com/assets/colab-badge.svg\" alt=\"Open In Colab\"/></a>"
>>>>>>> ad29d28591f819f70f4c06c64b2303d3cb100347
      ]
    },
    {
      "cell_type": "markdown",
      "source": [
        "## KERAS Architecture model 28/12/2022\n",
        "  \n",
        "   \n",
        "   Very basic and needs work but it's a start.  \n",
        "  \n",
        "  Based on chap 8 chollet"
      ],
      "metadata": {
        "id": "Mb4pWLQrzxOe"
      }
    },
    {
      "cell_type": "markdown",
      "source": [
        "### Add to GitHub Repository"
      ],
      "metadata": {
        "id": "gM7lGP5Gu_37"
      }
    },
    {
      "cell_type": "code",
      "source": [
        "!git config --"
      ],
      "metadata": {
        "id": "3bJ1ppJwu_gV"
      },
      "execution_count": null,
      "outputs": []
    },
    {
      "cell_type": "markdown",
      "source": [
        "### Packages"
      ],
      "metadata": {
        "id": "gLRuXuauXAxC"
      }
    },
    {
      "cell_type": "code",
      "execution_count": null,
      "metadata": {
        "id": "HXKZ8APHeVPg"
      },
      "outputs": [],
      "source": [
        "import os\n",
        "import numpy as np\n",
        "import tensorflow as tf\n",
        "from tensorflow import keras\n",
        "import matplotlib.pyplot as plt\n",
        "from tensorflow.keras import layers"
      ]
    },
    {
      "cell_type": "code",
      "source": [
        "import pathlib as path\n",
        "from pathlib import Path"
      ],
      "metadata": {
        "id": "SDRyBsmjedQK"
      },
      "execution_count": null,
      "outputs": []
    },
    {
      "cell_type": "code",
      "source": [
        "from keras_preprocessing.image import img_to_array\n",
        "from keras_preprocessing.image import ImageDataGenerator\n",
        "from keras.models import Sequential\n",
        "from keras.layers import Conv2D, MaxPooling2D\n",
        "from keras.layers import Activation, Dropout, Flatten, Dense\n"
      ],
      "metadata": {
        "id": "D9o_Xsx-ejP6"
      },
      "execution_count": null,
      "outputs": []
    },
    {
      "cell_type": "code",
      "source": [
        "from tensorflow.keras.preprocessing import image_dataset_from_directory\n",
        "from tensorflow.keras.layers.experimental import preprocessing"
      ],
      "metadata": {
        "id": "plJTwAFWeknU"
      },
      "execution_count": null,
      "outputs": []
    },
    {
      "cell_type": "markdown",
      "source": [
        "### Data Flow"
      ],
      "metadata": {
        "id": "EMWgBE02XERh"
      }
    },
    {
      "cell_type": "code",
      "source": [
        "from google.colab import drive\n",
        "drive.mount('/content/gdrive')"
      ],
      "metadata": {
        "colab": {
          "base_uri": "https://localhost:8080/"
        },
        "id": "gX7Sw-lNeo-_",
        "outputId": "bb3fed36-5483-45c9-8a3d-89e27d2adfde"
      },
      "execution_count": null,
      "outputs": [
        {
          "output_type": "stream",
          "name": "stdout",
          "text": [
            "Mounted at /content/gdrive\n"
          ]
        }
      ]
    },
    {
      "cell_type": "code",
      "source": [
        "%cd /content/gdrive/MyDrive/PhD Image Files/OPM Images"
      ],
      "metadata": {
        "colab": {
          "base_uri": "https://localhost:8080/"
        },
        "id": "y-R3KMxZepiA",
        "outputId": "a1f1128a-45bd-407f-9a89-0b809e70eaca"
      },
      "execution_count": null,
      "outputs": [
        {
          "output_type": "stream",
          "name": "stdout",
          "text": [
            "/content/gdrive/MyDrive/PhD Image Files/OPM Images\n"
          ]
        }
      ]
    },
    {
      "cell_type": "code",
      "source": [
        "#new_base_dir = '/content/gdrive/MyDrive/PhD Image Files/OPM Images'"
      ],
      "metadata": {
        "id": "Dssd4zzfeymj"
      },
      "execution_count": null,
      "outputs": []
    },
    {
      "cell_type": "code",
      "source": [
        "train_dataset = '/content/gdrive/MyDrive/PhD Image Files/OPM Images/Train'\n",
        "validation_dataset = '/content/gdrive/MyDrive/PhD Image Files/OPM Images/Validation'\n",
        "test_dataset = '/content/gdrive/MyDrive/PhD Image Files/OPM Images/Test'"
      ],
      "metadata": {
        "id": "lNYJDWj0eyNr"
      },
      "execution_count": null,
      "outputs": []
    },
    {
      "cell_type": "markdown",
      "source": [
        "### Dataset setup from chap 8 chollet - use"
      ],
      "metadata": {
        "id": "twtjJ_W9z7p0"
      }
    },
    {
      "cell_type": "code",
      "source": [
        "image_size = (128,128)\n",
        "batch_size = 10"
      ],
      "metadata": {
        "id": "cVKLrmTgeyba"
      },
      "execution_count": null,
      "outputs": []
    },
    {
      "cell_type": "code",
      "source": [
        "from tensorflow.keras.utils import image_dataset_from_directory\n",
        "\n",
        "train_dataset = image_dataset_from_directory(\n",
        "    \"/content/gdrive/MyDrive/PhD Image Files/OPM Images/Train\",\n",
        "    image_size= image_size,\n",
        "    batch_size= batch_size)\n",
        "validation_dataset = image_dataset_from_directory(\n",
        "    \"/content/gdrive/MyDrive/PhD Image Files/OPM Images/Validation\",\n",
        "    image_size= image_size,\n",
        "    batch_size= batch_size)\n",
        "test_dataset = image_dataset_from_directory(\n",
        "    \"/content/gdrive/MyDrive/PhD Image Files/OPM Images/Test\",\n",
        "    image_size= image_size,\n",
        "    batch_size= batch_size)"
      ],
      "metadata": {
        "colab": {
          "base_uri": "https://localhost:8080/"
        },
        "id": "EYfrpiu8lF89",
        "outputId": "835d6ee4-9284-4cc6-c6cf-bb36485082a5"
      },
      "execution_count": null,
      "outputs": [
        {
          "output_type": "stream",
          "name": "stdout",
          "text": [
            "Found 200 files belonging to 2 classes.\n",
            "Found 50 files belonging to 2 classes.\n",
            "Found 50 files belonging to 2 classes.\n"
          ]
        }
      ]
    },
    {
      "cell_type": "markdown",
      "source": [
        "### Model layers \n",
        " \n",
        " Amend - use notes from Day 2 C7082"
      ],
      "metadata": {
        "id": "ap_byNASWzcd"
      }
    },
    {
      "cell_type": "code",
      "source": [
        "model = keras.Sequential([\n",
        "    layers.InputLayer(input_shape=[128, 128, 3]), #same as image_size\n",
        "    \n",
        "    # Data Augmentation (Preprocessing layers)\n",
        "    preprocessing.RandomContrast(factor=0.10),\n",
        "    preprocessing.RandomFlip(mode='horizontal'),\n",
        "    preprocessing.RandomFlip(mode='vertical'),\n",
        "    preprocessing.RandomWidth(factor=0.25),\n",
        "    preprocessing.RandomRotation(factor=0.10),\n",
        "    preprocessing.RandomBrightness(factor= 0.3),\n",
        "\n",
        "    # Block One\n",
        "    layers.BatchNormalization(renorm=True),\n",
        "    layers.Conv2D(filters=64, kernel_size=3, activation='relu', padding='same'),\n",
        "    layers.MaxPool2D(),\n",
        "\n",
        "    # Block Two\n",
        "    layers.BatchNormalization(renorm=True),\n",
        "    layers.Conv2D(filters=128, kernel_size=3, activation='relu', padding='same'),\n",
        "    layers.MaxPool2D(),\n",
        "\n",
        "    # Sarah block\n",
        "    layers.SeparableConv2D(filters = 128, kernel_size = 3, padding=\"same\", use_bias=False),\n",
        "\n",
        "    # Block Three\n",
        "    layers.BatchNormalization(renorm=True),\n",
        "    layers.Conv2D(filters=256, kernel_size=3, activation='relu', padding='same'),\n",
        "    layers.Conv2D(filters=256, kernel_size=3, activation='relu', padding='same'),\n",
        "    layers.MaxPool2D(),\n",
        "\n",
        "    # Sarah block\n",
        "    layers.SpatialDropout2D(0.2),\n",
        "\n",
        "    # Head\n",
        "    layers.BatchNormalization(renorm=True),\n",
        "    layers.Flatten(), \n",
        "    #layers.GlobalAveragePooling2D(), alternative to flatten\n",
        "    layers.Dense(8, activation='relu'),\n",
        "    layers.Dense(1, activation='sigmoid'),\n",
        "])\n"
      ],
      "metadata": {
        "colab": {
          "base_uri": "https://localhost:8080/"
        },
        "id": "zqAYN_DPfChr",
        "outputId": "6047c8c6-ac79-46e3-f530-a889e8e50e06"
      },
      "execution_count": null,
      "outputs": [
        {
          "output_type": "stream",
          "name": "stderr",
          "text": [
            "WARNING:tensorflow:Using a while_loop for converting RngReadAndSkip\n",
            "WARNING:tensorflow:Using a while_loop for converting Bitcast\n",
            "WARNING:tensorflow:Using a while_loop for converting Bitcast\n",
            "WARNING:tensorflow:Using a while_loop for converting StatelessRandomUniformFullIntV2\n",
            "WARNING:tensorflow:Using a while_loop for converting StatelessRandomGetKeyCounter\n",
            "WARNING:tensorflow:Using a while_loop for converting StatelessRandomUniformV2\n",
            "WARNING:tensorflow:Using a while_loop for converting AdjustContrastv2\n"
          ]
        }
      ]
    },
    {
      "cell_type": "code",
      "source": [
        "model.summary()"
      ],
      "metadata": {
        "id": "Bi9-uaAMpwxr"
      },
      "execution_count": null,
      "outputs": []
    },
    {
      "cell_type": "markdown",
      "source": [
        "### Defining an early stopping callback"
      ],
      "metadata": {
        "id": "cpJdo5dS78fW"
      }
    },
    {
      "cell_type": "code",
      "source": [
        "early_stopping = EarlyStopping(\n",
        "    min_delta=0.001,            # minimium amount of change to count as an improvement\n",
        "    patience=10,                # how many epochs to wait before stopping\n",
        "    restore_best_weights=True,"
      ],
      "metadata": {
        "id": "mk_eYT2076mf"
      },
      "execution_count": null,
      "outputs": []
    },
    {
      "cell_type": "markdown",
      "source": [
        "### Optimizer and Model Fitting"
      ],
      "metadata": {
        "id": "_lbJPrZs8LUd"
      }
    },
    {
      "cell_type": "code",
      "source": [
        "optimizer = tf.keras.optimizers.Adam(epsilon=0.01)\n",
        "model.compile(\n",
        "    optimizer=optimizer,\n",
        "    loss='binary_crossentropy',\n",
        "    metrics=['binary_accuracy'],\n",
        ")\n",
        "\n",
        "history = model.fit(\n",
        "    train_dataset,\n",
        "    validation_data = validation_dataset,\n",
        "    epochs=10,\n",
        "    #callbacks = [early_stopping]\n",
        ")\n"
      ],
      "metadata": {
        "id": "1U9fXlFQfCXH"
      },
      "execution_count": null,
      "outputs": []
    },
    {
      "cell_type": "code",
      "source": [
        "# Plot learning curves\n",
        "import pandas as pd\n",
        "history_frame = pd.DataFrame(history.history)\n",
        "history_frame.loc[:, ['loss', 'val_loss']].plot()\n",
        "history_frame.loc[:, ['binary_accuracy', 'val_binary_accuracy']].plot();"
      ],
      "metadata": {
        "colab": {
          "base_uri": "https://localhost:8080/",
          "height": 515
        },
        "id": "qSPisvCYgIxh",
        "outputId": "f0af1784-ed69-46a2-ad24-68696921ce4a"
      },
      "execution_count": null,
      "outputs": [
        {
          "output_type": "display_data",
          "data": {
            "text/plain": [
              "<Figure size 432x288 with 1 Axes>"
            ],
            "image/png": "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\n"
          },
          "metadata": {
            "needs_background": "light"
          }
        },
        {
          "output_type": "display_data",
          "data": {
            "text/plain": [
              "<Figure size 432x288 with 1 Axes>"
            ],
            "image/png": "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\n"
          },
          "metadata": {
            "needs_background": "light"
          }
        }
      ]
    },
    {
      "cell_type": "markdown",
      "source": [
        "Prediction"
      ],
      "metadata": {
        "id": "XL62sozF65jU"
      }
    },
    {
      "cell_type": "code",
      "source": [
        "test_digits = test_dataset[0:10]\n",
        "Predictions = model.predict(test_digits)\n",
        "Predictions[7]"
      ],
      "metadata": {
        "colab": {
          "base_uri": "https://localhost:8080/",
          "height": 198
        },
        "id": "t7MJiOfyDoh2",
        "outputId": "35d34073-283c-4765-b3a6-cfdd6a1cdf35"
      },
      "execution_count": null,
      "outputs": [
        {
          "output_type": "error",
          "ename": "TypeError",
          "evalue": "ignored",
          "traceback": [
            "\u001b[0;31m---------------------------------------------------------------------------\u001b[0m",
            "\u001b[0;31mTypeError\u001b[0m                                 Traceback (most recent call last)",
            "\u001b[0;32m<ipython-input-16-5c788d183887>\u001b[0m in \u001b[0;36m<module>\u001b[0;34m\u001b[0m\n\u001b[0;32m----> 1\u001b[0;31m \u001b[0mtest_digits\u001b[0m \u001b[0;34m=\u001b[0m \u001b[0mtest_dataset\u001b[0m\u001b[0;34m[\u001b[0m\u001b[0;36m0\u001b[0m\u001b[0;34m:\u001b[0m\u001b[0;36m10\u001b[0m\u001b[0;34m]\u001b[0m\u001b[0;34m\u001b[0m\u001b[0;34m\u001b[0m\u001b[0m\n\u001b[0m\u001b[1;32m      2\u001b[0m \u001b[0mPredictions\u001b[0m \u001b[0;34m=\u001b[0m \u001b[0mmodel\u001b[0m\u001b[0;34m.\u001b[0m\u001b[0mpredict\u001b[0m\u001b[0;34m(\u001b[0m\u001b[0mtest_digits\u001b[0m\u001b[0;34m)\u001b[0m\u001b[0;34m\u001b[0m\u001b[0;34m\u001b[0m\u001b[0m\n\u001b[1;32m      3\u001b[0m \u001b[0mPredictions\u001b[0m\u001b[0;34m[\u001b[0m\u001b[0;36m7\u001b[0m\u001b[0;34m]\u001b[0m\u001b[0;34m\u001b[0m\u001b[0;34m\u001b[0m\u001b[0m\n",
            "\u001b[0;31mTypeError\u001b[0m: 'BatchDataset' object is not subscriptable"
          ]
        }
      ]
    }
  ]
}